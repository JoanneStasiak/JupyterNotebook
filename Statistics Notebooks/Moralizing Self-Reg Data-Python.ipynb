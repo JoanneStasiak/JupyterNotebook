{
 "cells": [
  {
   "cell_type": "markdown",
   "metadata": {},
   "source": [
    "# Moralizing Self-Regulation Studies\n",
    "## Can we leverage our social relationships to facilitate self-regulatory decision making?\n",
    "***\n",
    "<br>\n",
    "\n",
    "### <font color=blue> Nutrition Domain </font> - Relational and Conceptual Priming\n",
    "#### Do our social relationships promote regulation **<font color=green>over and above</font>** domain-specific non-social primes?\n",
    "\n",
    "\n",
    "In this study, participants first typed out three *names*:\n",
    "1. The name of the person most impacted by the participant's health,\n",
    "2. The name of person the participant hangs out with the most socially, and \n",
    "3. The name of a celebrity the participant likes. \n",
    "\n",
    "They also typed out three *words*:\n",
    "1. A word that they most associate with health,\n",
    "2. A word that reminds them of hanging out socially, and\n",
    "3. A word that reminds them of a celebrity\n",
    "\n",
    "\n",
    "Participants then made a series of decisions in which they allocated time to playing a videogame and reading nutritional tips.\n",
    "***\n",
    "<br>\n",
    "\n",
    "To analyze data from this study, first import the packages we need:\n"
   ]
  },
  {
   "cell_type": "code",
   "execution_count": 1,
   "metadata": {},
   "outputs": [],
   "source": [
    "from __future__ import division \n",
    "import sys\n",
    "import os\n",
    "import pandas as pd\n",
    "import numpy as np\n",
    "from numpy import mean, std, cov \n",
    "from numpy.random import seed, randn\n",
    "import matplotlib.pyplot as plt\n",
    "from matplotlib import pyplot\n",
    "from math import sqrt\n",
    "import scipy\n",
    "from scipy.stats import t, pearsonr\n",
    "import seaborn as sns\n",
    "from statistics import mean, stdev\n",
    "import statsmodels.api as sm\n",
    "import statsmodels.formula.api as smf #for glm and more"
   ]
  },
  {
   "cell_type": "markdown",
   "metadata": {},
   "source": [
    "<br>\n",
    "Let's then read in the data -- `longDF` is going to refer to our csv with all of the behavioral data *and* the self-report data. Each participant will have 120 lines of data for every trial. "
   ]
  },
  {
   "cell_type": "code",
   "execution_count": 2,
   "metadata": {},
   "outputs": [
    {
     "data": {
      "text/plain": [
       "PID                       object\n",
       "SANPID                     int64\n",
       "typedNameHealth           object\n",
       "typedNameFriend           object\n",
       "typedNameCeleb            object\n",
       "                           ...  \n",
       "DoingMath_Info            object\n",
       "DoingMath_CodedInfo        int64\n",
       "DoingMath_Experience       int64\n",
       "DoingMath_Effort           int64\n",
       "DoingMath_Subjectivity     int64\n",
       "Length: 178, dtype: object"
      ]
     },
     "execution_count": 2,
     "metadata": {},
     "output_type": "execute_result"
    }
   ],
   "source": [
    "os.chdir(\"F://Moralizing Self-Regulation//Nutrition//Nutrition Time Allocations//data//files\")\n",
    "longDF = pd.read_csv(\"Behavioral_Nutr.csv\")\n",
    "longDF.head()\n",
    "\n",
    "longDF.shape\n",
    "longDF.describe()\n",
    "\n",
    "longDF.dtypes"
   ]
  },
  {
   "cell_type": "markdown",
   "metadata": {},
   "source": [
    "<br>\n",
    "Let's convert variables to factors.\n",
    "The below code will operate the same as R's `as.factor()` function\n"
   ]
  },
  {
   "cell_type": "code",
   "execution_count": 3,
   "metadata": {},
   "outputs": [
    {
     "data": {
      "text/plain": [
       "PID                       category\n",
       "SANPID                    category\n",
       "typedNameHealth             object\n",
       "typedNameFriend             object\n",
       "typedNameCeleb              object\n",
       "                            ...   \n",
       "DoingMath_Info              object\n",
       "DoingMath_CodedInfo          int64\n",
       "DoingMath_Experience         int64\n",
       "DoingMath_Effort             int64\n",
       "DoingMath_Subjectivity       int64\n",
       "Length: 178, dtype: object"
      ]
     },
     "execution_count": 3,
     "metadata": {},
     "output_type": "execute_result"
    }
   ],
   "source": [
    "longDF['PID'] = longDF['PID'].astype('category')\n",
    "\n",
    "\n",
    "a=[\"PID\", \"SANPID\", \"TypeNameShown\", \"Domain\", \"Condition\", \"ResponseFavor\"] #All of the columns I want to convert\n",
    "for i in a:\n",
    "    longDF[i]=longDF[i].astype('category')\n",
    "    \n",
    "longDF.dtypes"
   ]
  },
  {
   "cell_type": "markdown",
   "metadata": {},
   "source": [
    "Now let's run some preliminary analyses! We can first look at participants' general tendencies to favor one activity over the other in the behavioral task:"
   ]
  },
  {
   "cell_type": "code",
   "execution_count": 4,
   "metadata": {},
   "outputs": [
    {
     "name": "stdout",
     "output_type": "stream",
     "text": [
      "                 Generalized Linear Model Regression Results                  \n",
      "==============================================================================\n",
      "Dep. Variable:     ResponseFavorCoded   No. Observations:                 5936\n",
      "Model:                            GLM   Df Residuals:                     5930\n",
      "Model Family:                Binomial   Df Model:                            5\n",
      "Link Function:                  logit   Scale:                          1.0000\n",
      "Method:                          IRLS   Log-Likelihood:                -4027.1\n",
      "Date:                Thu, 08 Apr 2021   Deviance:                       8054.3\n",
      "Time:                        09:45:10   Pearson chi2:                 5.94e+03\n",
      "No. Iterations:                     4                                         \n",
      "Covariance Type:            nonrobust                                         \n",
      "==================================================================================================\n",
      "                                     coef    std err          z      P>|z|      [0.025      0.975]\n",
      "--------------------------------------------------------------------------------------------------\n",
      "Intercept                         -0.1300      0.064     -2.037      0.042      -0.255      -0.005\n",
      "TypeNameShown[T.CelebWord]         0.2133      0.090      2.364      0.018       0.036       0.390\n",
      "TypeNameShown[T.FriendName]       -0.2127      0.091     -2.344      0.019      -0.391      -0.035\n",
      "TypeNameShown[T.FriendWord]       -0.1789      0.091     -1.975      0.048      -0.356      -0.001\n",
      "TypeNameShown[T.NutritionName]     0.6151      0.091      6.732      0.000       0.436       0.794\n",
      "TypeNameShown[T.NutritionWord]     0.6306      0.091      6.893      0.000       0.451       0.810\n",
      "==================================================================================================\n",
      "Coefficients\n",
      "Intercept                        -0.130000\n",
      "TypeNameShown[T.CelebWord]        0.213297\n",
      "TypeNameShown[T.FriendName]      -0.212709\n",
      "TypeNameShown[T.FriendWord]      -0.178884\n",
      "TypeNameShown[T.NutritionName]    0.615101\n",
      "TypeNameShown[T.NutritionWord]    0.630613\n",
      "dtype: float64\n",
      "\n",
      "p-Values\n",
      "Intercept                         4.167603e-02\n",
      "TypeNameShown[T.CelebWord]        1.808572e-02\n",
      "TypeNameShown[T.FriendName]       1.907305e-02\n",
      "TypeNameShown[T.FriendWord]       4.826099e-02\n",
      "TypeNameShown[T.NutritionName]    1.672078e-11\n",
      "TypeNameShown[T.NutritionWord]    5.443855e-12\n",
      "dtype: float64\n",
      "\n",
      "Dependent variables\n",
      "ResponseFavorCoded\n"
     ]
    }
   ],
   "source": [
    "model = smf.glm(formula = 'ResponseFavorCoded ~ TypeNameShown', data=longDF, family=sm.families.Binomial())\n",
    "result = model.fit()\n",
    "print(result.summary())\n",
    "\n",
    "# get only some of the data\n",
    "print(\"Coefficients\")\n",
    "print(result.params)\n",
    "print()\n",
    "print(\"p-Values\")\n",
    "print(result.pvalues)\n",
    "print()\n",
    "print(\"Dependent variables\")\n",
    "print(result.model.endog_names)"
   ]
  },
  {
   "cell_type": "markdown",
   "metadata": {},
   "source": [
    "***\n",
    "We should probably change our reference point:"
   ]
  },
  {
   "cell_type": "code",
   "execution_count": 5,
   "metadata": {
    "scrolled": true
   },
   "outputs": [
    {
     "name": "stdout",
     "output_type": "stream",
     "text": [
      "                 Generalized Linear Model Regression Results                  \n",
      "==============================================================================\n",
      "Dep. Variable:     ResponseFavorCoded   No. Observations:                 5936\n",
      "Model:                            GLM   Df Residuals:                     5930\n",
      "Model Family:                Binomial   Df Model:                            5\n",
      "Link Function:                  logit   Scale:                          1.0000\n",
      "Method:                          IRLS   Log-Likelihood:                -4027.1\n",
      "Date:                Thu, 08 Apr 2021   Deviance:                       8054.3\n",
      "Time:                        09:45:13   Pearson chi2:                 5.94e+03\n",
      "No. Iterations:                     4                                         \n",
      "Covariance Type:            nonrobust                                         \n",
      "===========================================================================================================================================\n",
      "                                                                              coef    std err          z      P>|z|      [0.025      0.975]\n",
      "-------------------------------------------------------------------------------------------------------------------------------------------\n",
      "Intercept                                                                   0.4851      0.065      7.420      0.000       0.357       0.613\n",
      "C(TypeNameShown, Treatment(reference='NutritionName'))[T.CelebName]        -0.6151      0.091     -6.732      0.000      -0.794      -0.436\n",
      "C(TypeNameShown, Treatment(reference='NutritionName'))[T.CelebWord]        -0.4018      0.091     -4.399      0.000      -0.581      -0.223\n",
      "C(TypeNameShown, Treatment(reference='NutritionName'))[T.FriendName]       -0.8278      0.092     -9.014      0.000      -1.008      -0.648\n",
      "C(TypeNameShown, Treatment(reference='NutritionName'))[T.FriendWord]       -0.7940      0.092     -8.661      0.000      -0.974      -0.614\n",
      "C(TypeNameShown, Treatment(reference='NutritionName'))[T.NutritionWord]     0.0155      0.093      0.168      0.867      -0.166       0.197\n",
      "===========================================================================================================================================\n"
     ]
    }
   ],
   "source": [
    "model = smf.glm(formula = \"ResponseFavorCoded ~ C(TypeNameShown, Treatment(reference='NutritionName'))\", data=longDF, family=sm.families.Binomial())\n",
    "result = model.fit()\n",
    "print(result.summary())"
   ]
  },
  {
   "cell_type": "markdown",
   "metadata": {},
   "source": [
    "Re-organize the data so that we group by the prime, then create a plot visualizing the differences in participants' preference for activity following each prime"
   ]
  },
  {
   "cell_type": "code",
   "execution_count": 38,
   "metadata": {},
   "outputs": [
    {
     "name": "stderr",
     "output_type": "stream",
     "text": [
      "C:\\Users\\joann\\anaconda3\\envs\\PytR-Env\\lib\\site-packages\\seaborn\\categorical.py:3714: UserWarning: The `factorplot` function has been renamed to `catplot`. The original name will be removed in a future release. Please update your code. Note that the default `kind` in `factorplot` (`'point'`) has changed `'strip'` in `catplot`.\n",
      "  warnings.warn(msg)\n"
     ]
    },
    {
     "data": {
      "text/plain": [
       "<seaborn.axisgrid.FacetGrid at 0x23259c16fc8>"
      ]
     },
     "execution_count": 38,
     "metadata": {},
     "output_type": "execute_result"
    },
    {
     "data": {
      "image/png": "[encoded data removed]",
      "text/plain": [
       "<Figure size 842.4x595.44 with 1 Axes>"
      ]
     },
     "metadata": {},
     "output_type": "display_data"
    }
   ],
   "source": [
    "mean_props = longDF.groupby('TypeNameShown', as_index=False)['ResponseFavorCoded'].mean()\n",
    "\n",
    "mean_props\n",
    "sns.factorplot(y='ResponseFavorCoded',x='TypeNameShown',data=mean_props, height=8.27, aspect=11.7/8.27)\n"
   ]
  },
  {
   "cell_type": "code",
   "execution_count": 12,
   "metadata": {},
   "outputs": [],
   "source": [
    "os.chdir(\"F://Moralizing Self-Regulation//Financial SelfReg Study//Name-Word Primes and Time Allocations//Social-Nonsocial\")\n",
    "df = pd.read_csv(\"BehavioralData.csv\")"
   ]
  },
  {
   "cell_type": "code",
   "execution_count": 14,
   "metadata": {},
   "outputs": [
    {
     "data": {
      "text/plain": [
       "Condition\n",
       "Conceptual    0.446667\n",
       "Relational    0.412769\n",
       "Name: ResponseFavorCoded, dtype: float64"
      ]
     },
     "execution_count": 14,
     "metadata": {},
     "output_type": "execute_result"
    }
   ],
   "source": [
    "df.groupby('Condition')['ResponseFavorCoded'].mean()"
   ]
  },
  {
   "cell_type": "code",
   "execution_count": null,
   "metadata": {},
   "outputs": [],
   "source": []
  }
 ],
 "metadata": {
  "kernelspec": {
   "display_name": "Python 3",
   "language": "python",
   "name": "python3"
  },
  "language_info": {
   "codemirror_mode": {
    "name": "ipython",
    "version": 3
   },
   "file_extension": ".py",
   "mimetype": "text/x-python",
   "name": "python",
   "nbconvert_exporter": "python",
   "pygments_lexer": "ipython3",
   "version": "3.7.10"
  }
 },
 "nbformat": 4,
 "nbformat_minor": 2
}
