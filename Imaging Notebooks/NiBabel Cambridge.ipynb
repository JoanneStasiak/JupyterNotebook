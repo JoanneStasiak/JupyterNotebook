{
 "cells": [
  {
   "cell_type": "code",
   "execution_count": 4,
   "metadata": {},
   "outputs": [],
   "source": [
    "from nilearn import plotting\n",
    "import pylab as plt\n",
    "%matplotlib inline\n",
    "\n",
    "import numpy as np\n",
    "import nibabel as nb"
   ]
  },
  {
   "cell_type": "code",
   "execution_count": null,
   "metadata": {},
   "outputs": [],
   "source": [
    "nb.\n",
    "#press tab to see different functions\n",
    "nb.Nifti1Image()\n",
    "#Press shift + tab for info on what arguments it takes, press 2x for more info, pres 4x for the documentation to open in a window in notebook\n",
    "\n"
   ]
  },
  {
   "cell_type": "markdown",
   "metadata": {},
   "source": [
    "# Load a NIFTI file and look at the header:\n",
    "    "
   ]
  },
  {
   "cell_type": "code",
   "execution_count": 6,
   "metadata": {},
   "outputs": [
    {
     "name": "stdout",
     "output_type": "stream",
     "text": [
      "<class 'nibabel.nifti1.Nifti1Image'>\n",
      "data shape (224, 256, 256)\n",
      "affine: \n",
      "[[ 7.80000031e-01  0.00000000e+00  0.00000000e+00 -8.69700012e+01]\n",
      " [ 0.00000000e+00  7.78157055e-01 -6.94487095e-02 -9.20152588e+01]\n",
      " [ 0.00000000e+00  6.94487095e-02  7.78157055e-01 -1.01384445e+02]\n",
      " [ 0.00000000e+00  0.00000000e+00  0.00000000e+00  1.00000000e+00]]\n",
      "metadata:\n",
      "<class 'nibabel.nifti1.Nifti1Header'> object, endian='<'\n",
      "sizeof_hdr      : 348\n",
      "data_type       : b''\n",
      "db_name         : b''\n",
      "extents         : 0\n",
      "session_error   : 0\n",
      "regular         : b'r'\n",
      "dim_info        : 0\n",
      "dim             : [  3 224 256 256   1   1   1   1]\n",
      "intent_p1       : 0.0\n",
      "intent_p2       : 0.0\n",
      "intent_p3       : 0.0\n",
      "intent_code     : none\n",
      "datatype        : float32\n",
      "bitpix          : 32\n",
      "slice_start     : 0\n",
      "pixdim          : [1.         0.78000003 0.78125    0.78125    1.63       0.\n",
      " 0.         0.        ]\n",
      "vox_offset      : 0.0\n",
      "scl_slope       : nan\n",
      "scl_inter       : nan\n",
      "slice_end       : 0\n",
      "slice_code      : unknown\n",
      "xyzt_units      : 10\n",
      "cal_max         : 0.0\n",
      "cal_min         : 0.0\n",
      "slice_duration  : 0.0\n",
      "toffset         : 0.0\n",
      "glmax           : 0\n",
      "glmin           : 0\n",
      "descrip         : b'FSL5.0'\n",
      "aux_file        : b''\n",
      "qform_code      : scanner\n",
      "sform_code      : scanner\n",
      "quatern_b       : 0.04449123\n",
      "quatern_c       : 0.0\n",
      "quatern_d       : 0.0\n",
      "qoffset_x       : -86.97\n",
      "qoffset_y       : -92.01526\n",
      "qoffset_z       : -101.384445\n",
      "srow_x          : [  0.78000003   0.           0.         -86.97      ]\n",
      "srow_y          : [ 0.0000000e+00  7.7815706e-01 -6.9448709e-02 -9.2015259e+01]\n",
      "srow_z          : [ 0.00000000e+00  6.94487095e-02  7.78157055e-01 -1.01384445e+02]\n",
      "intent_name     : b''\n",
      "magic           : b'n+1'\n"
     ]
    }
   ],
   "source": [
    "img = nb.load('F://openNeuro//data//data//sub-01//anat//sub-01_T1w.nii.gz')\n",
    "print(img)\n",
    "\n"
   ]
  },
  {
   "cell_type": "markdown",
   "metadata": {},
   "source": [
    "### We can see it is a 3d file, not 4d because it gives us voxels x voxels x voxels (in data shape)\n",
    "#### It is only one volume because it is anatomical, not functional\n",
    "\n",
    "#### So let's look at a functional image as comparison:"
   ]
  },
  {
   "cell_type": "code",
   "execution_count": 8,
   "metadata": {},
   "outputs": [
    {
     "name": "stdout",
     "output_type": "stream",
     "text": [
      "<class 'nibabel.nifti1.Nifti1Image'>\n",
      "data shape (64, 64, 29, 216)\n",
      "affine: \n",
      "[[ -3.125        0.           0.         100.        ]\n",
      " [  0.           3.125        0.         -97.41625977]\n",
      " [  0.           0.           4.         -51.94065857]\n",
      " [  0.           0.           0.           1.        ]]\n",
      "metadata:\n",
      "<class 'nibabel.nifti1.Nifti1Header'> object, endian='<'\n",
      "sizeof_hdr      : 348\n",
      "data_type       : b''\n",
      "db_name         : b'?TR:1500.000 TE:25'\n",
      "extents         : 0\n",
      "session_error   : 0\n",
      "regular         : b'r'\n",
      "dim_info        : 0\n",
      "dim             : [  4  64  64  29 216   1   1   1]\n",
      "intent_p1       : 0.0\n",
      "intent_p2       : 0.0\n",
      "intent_p3       : 0.0\n",
      "intent_code     : none\n",
      "datatype        : int16\n",
      "bitpix          : 16\n",
      "slice_start     : 0\n",
      "pixdim          : [-1.     3.125  3.125  4.     1.5    1.     1.     1.   ]\n",
      "vox_offset      : 0.0\n",
      "scl_slope       : nan\n",
      "scl_inter       : nan\n",
      "slice_end       : 0\n",
      "slice_code      : unknown\n",
      "xyzt_units      : 10\n",
      "cal_max         : 0.0\n",
      "cal_min         : 0.0\n",
      "slice_duration  : 0.0\n",
      "toffset         : 0.0\n",
      "glmax           : 255\n",
      "glmin           : 0\n",
      "descrip         : b''\n",
      "aux_file        : b''\n",
      "qform_code      : unknown\n",
      "sform_code      : scanner\n",
      "quatern_b       : 0.0\n",
      "quatern_c       : 1.0\n",
      "quatern_d       : 0.0\n",
      "qoffset_x       : 100.0\n",
      "qoffset_y       : -97.41626\n",
      "qoffset_z       : -51.94066\n",
      "srow_x          : [ -3.125   0.      0.    100.   ]\n",
      "srow_y          : [  0.        3.125     0.      -97.41626]\n",
      "srow_z          : [  0.        0.        4.      -51.94066]\n",
      "intent_name     : b''\n",
      "magic           : b'n+1'\n"
     ]
    }
   ],
   "source": [
    "imgFunc = nb.load(\"F://openNeuro//data//data//sub-01//func//sub-01_task-antisaccadetaskwithfixedorder_run-01_bold.nii.gz\")\n",
    "\n",
    "print(imgFunc)\n"
   ]
  },
  {
   "cell_type": "markdown",
   "metadata": {},
   "source": [
    "#### Now we can see there are four dimensions, the last dimension represents volumes, or time\n"
   ]
  },
  {
   "cell_type": "code",
   "execution_count": 18,
   "metadata": {},
   "outputs": [
    {
     "name": "stderr",
     "output_type": "stream",
     "text": [
      "C:\\Users\\joann\\Downloads\\Anaconda\\lib\\site-packages\\ipykernel_launcher.py:1: DeprecationWarning: get_data() is deprecated in favor of get_fdata(), which has a more predictable return type. To obtain get_data() behavior going forward, use numpy.asanyarray(img.dataobj).\n",
      "\n",
      "* deprecated from version: 3.0\n",
      "* Will raise <class 'nibabel.deprecator.ExpiredDeprecationError'> as of version: 5.0\n",
      "  \"\"\"Entry point for launching an IPython kernel.\n"
     ]
    },
    {
     "data": {
      "text/plain": [
       "array([[ -3.125     ,   0.        ,   0.        , 100.        ],\n",
       "       [  0.        ,   3.125     ,   0.        , -97.41625977],\n",
       "       [  0.        ,   0.        ,   4.        , -51.94065857],\n",
       "       [  0.        ,   0.        ,   0.        ,   1.        ]])"
      ]
     },
     "execution_count": 18,
     "metadata": {},
     "output_type": "execute_result"
    }
   ],
   "source": [
    "data = imgFunc.get_data()\n",
    "data\n",
    "\n",
    "affine = imgFunc.affine\n",
    "affine\n",
    "#view the affine transformation\n",
    "#how we translate from 4d array to a physical space representation\n"
   ]
  },
  {
   "cell_type": "code",
   "execution_count": null,
   "metadata": {},
   "outputs": [],
   "source": [
    "header = imgFunc.header['pixdim']\n",
    "header\n",
    "#get the pixel dimensions \n",
    "#in this image, we have voxel size of 3.125, 3.125, 4 millimeters\n",
    "#with a TR (time of repetition{how much time in seconds it takes between collecting volumes}) of 1.5"
   ]
  },
  {
   "cell_type": "markdown",
   "metadata": {},
   "source": [
    "Aside\n",
    "Why not just img.data? Working with neuroimages can use a lot of memory, so nibabel works hard to be memory efficient. If it can read some data while leaving the rest on disk, it will. img.get_data() reflects that it's doing some work behind the scenes.\n"
   ]
  },
  {
   "cell_type": "markdown",
   "metadata": {},
   "source": [
    "## Let's visualize the data\n",
    "### We can take slices of the data\n",
    "\n",
    "plt.imshow() is a function from matplotlib that lets us visualize data \n",
    "[:, :,  -- means we're going to look at all of the \"i's\" and all of the \"j's\" \n",
    "data.shape[2] // 2 means we're getting it from somewhere in the middle of the brain\n",
    "0 means we're selecting the first volume\n",
    "\n",
    "When we do data.shape, we see the shape that we saw earlier, with the x, y, z, volumes data\n",
    "So when we take the index [2] of that shape, we are using the third coordinate (z)\n",
    "And then we're dividing it by 2-- // 2 -- to get an integer value in the middle of the brain "
   ]
  },
  {
   "cell_type": "code",
   "execution_count": 19,
   "metadata": {},
   "outputs": [
    {
     "name": "stdout",
     "output_type": "stream",
     "text": [
      "(64, 64, 29, 216)\n"
     ]
    },
    {
     "data": {
      "image/png": "[encoded data removed]",
      "text/plain": [
       "<Figure size 432x288 with 1 Axes>"
      ]
     },
     "metadata": {
      "needs_background": "light"
     },
     "output_type": "display_data"
    }
   ],
   "source": [
    "plt.imshow(data[:, :, data.shape[2] // 2, 0].T, cmap='Greys_r')\n",
    "print(data.shape)"
   ]
  },
  {
   "cell_type": "markdown",
   "metadata": {},
   "source": [
    "### img.orthoview()\n",
    "\n",
    "Nibabel has its own viewer, which can be accessed through img.orthoview(). This viewer scales voxels to reflect their size, and labels orientations.\n",
    "\n"
   ]
  },
  {
   "cell_type": "code",
   "execution_count": 21,
   "metadata": {},
   "outputs": [
    {
     "data": {
      "application/javascript": [
       "/* Put everything inside the global mpl namespace */\n",
       "window.mpl = {};\n",
       "\n",
       "\n",
       "mpl.get_websocket_type = function() {\n",
       "    if (typeof(WebSocket) !== 'undefined') {\n",
       "        return WebSocket;\n",
       "    } else if (typeof(MozWebSocket) !== 'undefined') {\n",
       "        return MozWebSocket;\n",
       "    } else {\n",
       "        alert('Your browser does not have WebSocket support. ' +\n",
       "              'Please try Chrome, Safari or Firefox ≥ 6. ' +\n",
       "              'Firefox 4 and 5 are also supported but you ' +\n",
       "              'have to enable WebSockets in about:config.');\n",
       "    };\n",
       "}\n",
       "\n",
       "mpl.figure = function(figure_id, websocket, ondownload, parent_element) {\n",
       "    this.id = figure_id;\n",
       "\n",
       "    this.ws = websocket;\n",
       "\n",
       "    this.supports_binary = (this.ws.binaryType != undefined);\n",
       "\n",
       "    if (!this.supports_binary) {\n",
       "        var warnings = document.getElementById(\"mpl-warnings\");\n",
       "        if (warnings) {\n",
       "            warnings.style.display = 'block';\n",
       "            warnings.textContent = (\n",
       "                \"This browser does not support binary websocket messages. \" +\n",
       "                    \"Performance may be slow.\");\n",
       "        }\n",
       "    }\n",
       "\n",
       "    this.imageObj = new Image();\n",
       "\n",
       "    this.context = undefined;\n",
       "    this.message = undefined;\n",
       "    this.canvas = undefined;\n",
       "    this.rubberband_canvas = undefined;\n",
       "    this.rubberband_context = undefined;\n",
       "    this.format_dropdown = undefined;\n",
       "\n",
       "    this.image_mode = 'full';\n",
       "\n",
       "    this.root = $('<div/>');\n",
       "    this._root_extra_style(this.root)\n",
       "    this.root.attr('style', 'display: inline-block');\n",
       "\n",
       "    $(parent_element).append(this.root);\n",
       "\n",
       "    this._init_header(this);\n",
       "    this._init_canvas(this);\n",
       "    this._init_toolbar(this);\n",
       "\n",
       "    var fig = this;\n",
       "\n",
       "    this.waiting = false;\n",
       "\n",
       "    this.ws.onopen =  function () {\n",
       "            fig.send_message(\"supports_binary\", {value: fig.supports_binary});\n",
       "            fig.send_message(\"send_image_mode\", {});\n",
       "            if (mpl.ratio != 1) {\n",
       "                fig.send_message(\"set_dpi_ratio\", {'dpi_ratio': mpl.ratio});\n",
       "            }\n",
       "            fig.send_message(\"refresh\", {});\n",
       "        }\n",
       "\n",
       "    this.imageObj.onload = function() {\n",
       "            if (fig.image_mode == 'full') {\n",
       "                // Full images could contain transparency (where diff images\n",
       "                // almost always do), so we need to clear the canvas so that\n",
       "                // there is no ghosting.\n",
       "                fig.context.clearRect(0, 0, fig.canvas.width, fig.canvas.height);\n",
       "            }\n",
       "            fig.context.drawImage(fig.imageObj, 0, 0);\n",
       "        };\n",
       "\n",
       "    this.imageObj.onunload = function() {\n",
       "        fig.ws.close();\n",
       "    }\n",
       "\n",
       "    this.ws.onmessage = this._make_on_message_function(this);\n",
       "\n",
       "    this.ondownload = ondownload;\n",
       "}\n",
       "\n",
       "mpl.figure.prototype._init_header = function() {\n",
       "    var titlebar = $(\n",
       "        '<div class=\"ui-dialog-titlebar ui-widget-header ui-corner-all ' +\n",
       "        'ui-helper-clearfix\"/>');\n",
       "    var titletext = $(\n",
       "        '<div class=\"ui-dialog-title\" style=\"width: 100%; ' +\n",
       "        'text-align: center; padding: 3px;\"/>');\n",
       "    titlebar.append(titletext)\n",
       "    this.root.append(titlebar);\n",
       "    this.header = titletext[0];\n",
       "}\n",
       "\n",
       "\n",
       "\n",
       "mpl.figure.prototype._canvas_extra_style = function(canvas_div) {\n",
       "\n",
       "}\n",
       "\n",
       "\n",
       "mpl.figure.prototype._root_extra_style = function(canvas_div) {\n",
       "\n",
       "}\n",
       "\n",
       "mpl.figure.prototype._init_canvas = function() {\n",
       "    var fig = this;\n",
       "\n",
       "    var canvas_div = $('<div/>');\n",
       "\n",
       "    canvas_div.attr('style', 'position: relative; clear: both; outline: 0');\n",
       "\n",
       "    function canvas_keyboard_event(event) {\n",
       "        return fig.key_event(event, event['data']);\n",
       "    }\n",
       "\n",
       "    canvas_div.keydown('key_press', canvas_keyboard_event);\n",
       "    canvas_div.keyup('key_release', canvas_keyboard_event);\n",
       "    this.canvas_div = canvas_div\n",
       "    this._canvas_extra_style(canvas_div)\n",
       "    this.root.append(canvas_div);\n",
       "\n",
       "    var canvas = $('<canvas/>');\n",
       "    canvas.addClass('mpl-canvas');\n",
       "    canvas.attr('style', \"left: 0; top: 0; z-index: 0; outline: 0\")\n",
       "\n",
       "    this.canvas = canvas[0];\n",
       "    this.context = canvas[0].getContext(\"2d\");\n",
       "\n",
       "    var backingStore = this.context.backingStorePixelRatio ||\n",
       "\tthis.context.webkitBackingStorePixelRatio ||\n",
       "\tthis.context.mozBackingStorePixelRatio ||\n",
       "\tthis.context.msBackingStorePixelRatio ||\n",
       "\tthis.context.oBackingStorePixelRatio ||\n",
       "\tthis.context.backingStorePixelRatio || 1;\n",
       "\n",
       "    mpl.ratio = (window.devicePixelRatio || 1) / backingStore;\n",
       "\n",
       "    var rubberband = $('<canvas/>');\n",
       "    rubberband.attr('style', \"position: absolute; left: 0; top: 0; z-index: 1;\")\n",
       "\n",
       "    var pass_mouse_events = true;\n",
       "\n",
       "    canvas_div.resizable({\n",
       "        start: function(event, ui) {\n",
       "            pass_mouse_events = false;\n",
       "        },\n",
       "        resize: function(event, ui) {\n",
       "            fig.request_resize(ui.size.width, ui.size.height);\n",
       "        },\n",
       "        stop: function(event, ui) {\n",
       "            pass_mouse_events = true;\n",
       "            fig.request_resize(ui.size.width, ui.size.height);\n",
       "        },\n",
       "    });\n",
       "\n",
       "    function mouse_event_fn(event) {\n",
       "        if (pass_mouse_events)\n",
       "            return fig.mouse_event(event, event['data']);\n",
       "    }\n",
       "\n",
       "    rubberband.mousedown('button_press', mouse_event_fn);\n",
       "    rubberband.mouseup('button_release', mouse_event_fn);\n",
       "    // Throttle sequential mouse events to 1 every 20ms.\n",
       "    rubberband.mousemove('motion_notify', mouse_event_fn);\n",
       "\n",
       "    rubberband.mouseenter('figure_enter', mouse_event_fn);\n",
       "    rubberband.mouseleave('figure_leave', mouse_event_fn);\n",
       "\n",
       "    canvas_div.on(\"wheel\", function (event) {\n",
       "        event = event.originalEvent;\n",
       "        event['data'] = 'scroll'\n",
       "        if (event.deltaY < 0) {\n",
       "            event.step = 1;\n",
       "        } else {\n",
       "            event.step = -1;\n",
       "        }\n",
       "        mouse_event_fn(event);\n",
       "    });\n",
       "\n",
       "    canvas_div.append(canvas);\n",
       "    canvas_div.append(rubberband);\n",
       "\n",
       "    this.rubberband = rubberband;\n",
       "    this.rubberband_canvas = rubberband[0];\n",
       "    this.rubberband_context = rubberband[0].getContext(\"2d\");\n",
       "    this.rubberband_context.strokeStyle = \"#000000\";\n",
       "\n",
       "    this._resize_canvas = function(width, height) {\n",
       "        // Keep the size of the canvas, canvas container, and rubber band\n",
       "        // canvas in synch.\n",
       "        canvas_div.css('width', width)\n",
       "        canvas_div.css('height', height)\n",
       "\n",
       "        canvas.attr('width', width * mpl.ratio);\n",
       "        canvas.attr('height', height * mpl.ratio);\n",
       "        canvas.attr('style', 'width: ' + width + 'px; height: ' + height + 'px;');\n",
       "\n",
       "        rubberband.attr('width', width);\n",
       "        rubberband.attr('height', height);\n",
       "    }\n",
       "\n",
       "    // Set the figure to an initial 600x600px, this will subsequently be updated\n",
       "    // upon first draw.\n",
       "    this._resize_canvas(600, 600);\n",
       "\n",
       "    // Disable right mouse context menu.\n",
       "    $(this.rubberband_canvas).bind(\"contextmenu\",function(e){\n",
       "        return false;\n",
       "    });\n",
       "\n",
       "    function set_focus () {\n",
       "        canvas.focus();\n",
       "        canvas_div.focus();\n",
       "    }\n",
       "\n",
       "    window.setTimeout(set_focus, 100);\n",
       "}\n",
       "\n",
       "mpl.figure.prototype._init_toolbar = function() {\n",
       "    var fig = this;\n",
       "\n",
       "    var nav_element = $('<div/>');\n",
       "    nav_element.attr('style', 'width: 100%');\n",
       "    this.root.append(nav_element);\n",
       "\n",
       "    // Define a callback function for later on.\n",
       "    function toolbar_event(event) {\n",
       "        return fig.toolbar_button_onclick(event['data']);\n",
       "    }\n",
       "    function toolbar_mouse_event(event) {\n",
       "        return fig.toolbar_button_onmouseover(event['data']);\n",
       "    }\n",
       "\n",
       "    for(var toolbar_ind in mpl.toolbar_items) {\n",
       "        var name = mpl.toolbar_items[toolbar_ind][0];\n",
       "        var tooltip = mpl.toolbar_items[toolbar_ind][1];\n",
       "        var image = mpl.toolbar_items[toolbar_ind][2];\n",
       "        var method_name = mpl.toolbar_items[toolbar_ind][3];\n",
       "\n",
       "        if (!name) {\n",
       "            // put a spacer in here.\n",
       "            continue;\n",
       "        }\n",
       "        var button = $('<button/>');\n",
       "        button.addClass('ui-button ui-widget ui-state-default ui-corner-all ' +\n",
       "                        'ui-button-icon-only');\n",
       "        button.attr('role', 'button');\n",
       "        button.attr('aria-disabled', 'false');\n",
       "        button.click(method_name, toolbar_event);\n",
       "        button.mouseover(tooltip, toolbar_mouse_event);\n",
       "\n",
       "        var icon_img = $('<span/>');\n",
       "        icon_img.addClass('ui-button-icon-primary ui-icon');\n",
       "        icon_img.addClass(image);\n",
       "        icon_img.addClass('ui-corner-all');\n",
       "\n",
       "        var tooltip_span = $('<span/>');\n",
       "        tooltip_span.addClass('ui-button-text');\n",
       "        tooltip_span.html(tooltip);\n",
       "\n",
       "        button.append(icon_img);\n",
       "        button.append(tooltip_span);\n",
       "\n",
       "        nav_element.append(button);\n",
       "    }\n",
       "\n",
       "    var fmt_picker_span = $('<span/>');\n",
       "\n",
       "    var fmt_picker = $('<select/>');\n",
       "    fmt_picker.addClass('mpl-toolbar-option ui-widget ui-widget-content');\n",
       "    fmt_picker_span.append(fmt_picker);\n",
       "    nav_element.append(fmt_picker_span);\n",
       "    this.format_dropdown = fmt_picker[0];\n",
       "\n",
       "    for (var ind in mpl.extensions) {\n",
       "        var fmt = mpl.extensions[ind];\n",
       "        var option = $(\n",
       "            '<option/>', {selected: fmt === mpl.default_extension}).html(fmt);\n",
       "        fmt_picker.append(option);\n",
       "    }\n",
       "\n",
       "    // Add hover states to the ui-buttons\n",
       "    $( \".ui-button\" ).hover(\n",
       "        function() { $(this).addClass(\"ui-state-hover\");},\n",
       "        function() { $(this).removeClass(\"ui-state-hover\");}\n",
       "    );\n",
       "\n",
       "    var status_bar = $('<span class=\"mpl-message\"/>');\n",
       "    nav_element.append(status_bar);\n",
       "    this.message = status_bar[0];\n",
       "}\n",
       "\n",
       "mpl.figure.prototype.request_resize = function(x_pixels, y_pixels) {\n",
       "    // Request matplotlib to resize the figure. Matplotlib will then trigger a resize in the client,\n",
       "    // which will in turn request a refresh of the image.\n",
       "    this.send_message('resize', {'width': x_pixels, 'height': y_pixels});\n",
       "}\n",
       "\n",
       "mpl.figure.prototype.send_message = function(type, properties) {\n",
       "    properties['type'] = type;\n",
       "    properties['figure_id'] = this.id;\n",
       "    this.ws.send(JSON.stringify(properties));\n",
       "}\n",
       "\n",
       "mpl.figure.prototype.send_draw_message = function() {\n",
       "    if (!this.waiting) {\n",
       "        this.waiting = true;\n",
       "        this.ws.send(JSON.stringify({type: \"draw\", figure_id: this.id}));\n",
       "    }\n",
       "}\n",
       "\n",
       "\n",
       "mpl.figure.prototype.handle_save = function(fig, msg) {\n",
       "    var format_dropdown = fig.format_dropdown;\n",
       "    var format = format_dropdown.options[format_dropdown.selectedIndex].value;\n",
       "    fig.ondownload(fig, format);\n",
       "}\n",
       "\n",
       "\n",
       "mpl.figure.prototype.handle_resize = function(fig, msg) {\n",
       "    var size = msg['size'];\n",
       "    if (size[0] != fig.canvas.width || size[1] != fig.canvas.height) {\n",
       "        fig._resize_canvas(size[0], size[1]);\n",
       "        fig.send_message(\"refresh\", {});\n",
       "    };\n",
       "}\n",
       "\n",
       "mpl.figure.prototype.handle_rubberband = function(fig, msg) {\n",
       "    var x0 = msg['x0'] / mpl.ratio;\n",
       "    var y0 = (fig.canvas.height - msg['y0']) / mpl.ratio;\n",
       "    var x1 = msg['x1'] / mpl.ratio;\n",
       "    var y1 = (fig.canvas.height - msg['y1']) / mpl.ratio;\n",
       "    x0 = Math.floor(x0) + 0.5;\n",
       "    y0 = Math.floor(y0) + 0.5;\n",
       "    x1 = Math.floor(x1) + 0.5;\n",
       "    y1 = Math.floor(y1) + 0.5;\n",
       "    var min_x = Math.min(x0, x1);\n",
       "    var min_y = Math.min(y0, y1);\n",
       "    var width = Math.abs(x1 - x0);\n",
       "    var height = Math.abs(y1 - y0);\n",
       "\n",
       "    fig.rubberband_context.clearRect(\n",
       "        0, 0, fig.canvas.width / mpl.ratio, fig.canvas.height / mpl.ratio);\n",
       "\n",
       "    fig.rubberband_context.strokeRect(min_x, min_y, width, height);\n",
       "}\n",
       "\n",
       "mpl.figure.prototype.handle_figure_label = function(fig, msg) {\n",
       "    // Updates the figure title.\n",
       "    fig.header.textContent = msg['label'];\n",
       "}\n",
       "\n",
       "mpl.figure.prototype.handle_cursor = function(fig, msg) {\n",
       "    var cursor = msg['cursor'];\n",
       "    switch(cursor)\n",
       "    {\n",
       "    case 0:\n",
       "        cursor = 'pointer';\n",
       "        break;\n",
       "    case 1:\n",
       "        cursor = 'default';\n",
       "        break;\n",
       "    case 2:\n",
       "        cursor = 'crosshair';\n",
       "        break;\n",
       "    case 3:\n",
       "        cursor = 'move';\n",
       "        break;\n",
       "    }\n",
       "    fig.rubberband_canvas.style.cursor = cursor;\n",
       "}\n",
       "\n",
       "mpl.figure.prototype.handle_message = function(fig, msg) {\n",
       "    fig.message.textContent = msg['message'];\n",
       "}\n",
       "\n",
       "mpl.figure.prototype.handle_draw = function(fig, msg) {\n",
       "    // Request the server to send over a new figure.\n",
       "    fig.send_draw_message();\n",
       "}\n",
       "\n",
       "mpl.figure.prototype.handle_image_mode = function(fig, msg) {\n",
       "    fig.image_mode = msg['mode'];\n",
       "}\n",
       "\n",
       "mpl.figure.prototype.updated_canvas_event = function() {\n",
       "    // Called whenever the canvas gets updated.\n",
       "    this.send_message(\"ack\", {});\n",
       "}\n",
       "\n",
       "// A function to construct a web socket function for onmessage handling.\n",
       "// Called in the figure constructor.\n",
       "mpl.figure.prototype._make_on_message_function = function(fig) {\n",
       "    return function socket_on_message(evt) {\n",
       "        if (evt.data instanceof Blob) {\n",
       "            /* FIXME: We get \"Resource interpreted as Image but\n",
       "             * transferred with MIME type text/plain:\" errors on\n",
       "             * Chrome.  But how to set the MIME type?  It doesn't seem\n",
       "             * to be part of the websocket stream */\n",
       "            evt.data.type = \"image/png\";\n",
       "\n",
       "            /* Free the memory for the previous frames */\n",
       "            if (fig.imageObj.src) {\n",
       "                (window.URL || window.webkitURL).revokeObjectURL(\n",
       "                    fig.imageObj.src);\n",
       "            }\n",
       "\n",
       "            fig.imageObj.src = (window.URL || window.webkitURL).createObjectURL(\n",
       "                evt.data);\n",
       "            fig.updated_canvas_event();\n",
       "            fig.waiting = false;\n",
       "            return;\n",
       "        }\n",
       "        else if (typeof evt.data === 'string' && evt.data.slice(0, 21) == \"data:image/png;base64\") {\n",
       "            fig.imageObj.src = evt.data;\n",
       "            fig.updated_canvas_event();\n",
       "            fig.waiting = false;\n",
       "            return;\n",
       "        }\n",
       "\n",
       "        var msg = JSON.parse(evt.data);\n",
       "        var msg_type = msg['type'];\n",
       "\n",
       "        // Call the  \"handle_{type}\" callback, which takes\n",
       "        // the figure and JSON message as its only arguments.\n",
       "        try {\n",
       "            var callback = fig[\"handle_\" + msg_type];\n",
       "        } catch (e) {\n",
       "            console.log(\"No handler for the '\" + msg_type + \"' message type: \", msg);\n",
       "            return;\n",
       "        }\n",
       "\n",
       "        if (callback) {\n",
       "            try {\n",
       "                // console.log(\"Handling '\" + msg_type + \"' message: \", msg);\n",
       "                callback(fig, msg);\n",
       "            } catch (e) {\n",
       "                console.log(\"Exception inside the 'handler_\" + msg_type + \"' callback:\", e, e.stack, msg);\n",
       "            }\n",
       "        }\n",
       "    };\n",
       "}\n",
       "\n",
       "// from http://stackoverflow.com/questions/1114465/getting-mouse-location-in-canvas\n",
       "mpl.findpos = function(e) {\n",
       "    //this section is from http://www.quirksmode.org/js/events_properties.html\n",
       "    var targ;\n",
       "    if (!e)\n",
       "        e = window.event;\n",
       "    if (e.target)\n",
       "        targ = e.target;\n",
       "    else if (e.srcElement)\n",
       "        targ = e.srcElement;\n",
       "    if (targ.nodeType == 3) // defeat Safari bug\n",
       "        targ = targ.parentNode;\n",
       "\n",
       "    // jQuery normalizes the pageX and pageY\n",
       "    // pageX,Y are the mouse positions relative to the document\n",
       "    // offset() returns the position of the element relative to the document\n",
       "    var x = e.pageX - $(targ).offset().left;\n",
       "    var y = e.pageY - $(targ).offset().top;\n",
       "\n",
       "    return {\"x\": x, \"y\": y};\n",
       "};\n",
       "\n",
       "/*\n",
       " * return a copy of an object with only non-object keys\n",
       " * we need this to avoid circular references\n",
       " * http://stackoverflow.com/a/24161582/3208463\n",
       " */\n",
       "function simpleKeys (original) {\n",
       "  return Object.keys(original).reduce(function (obj, key) {\n",
       "    if (typeof original[key] !== 'object')\n",
       "        obj[key] = original[key]\n",
       "    return obj;\n",
       "  }, {});\n",
       "}\n",
       "\n",
       "mpl.figure.prototype.mouse_event = function(event, name) {\n",
       "    var canvas_pos = mpl.findpos(event)\n",
       "\n",
       "    if (name === 'button_press')\n",
       "    {\n",
       "        this.canvas.focus();\n",
       "        this.canvas_div.focus();\n",
       "    }\n",
       "\n",
       "    var x = canvas_pos.x * mpl.ratio;\n",
       "    var y = canvas_pos.y * mpl.ratio;\n",
       "\n",
       "    this.send_message(name, {x: x, y: y, button: event.button,\n",
       "                             step: event.step,\n",
       "                             guiEvent: simpleKeys(event)});\n",
       "\n",
       "    /* This prevents the web browser from automatically changing to\n",
       "     * the text insertion cursor when the button is pressed.  We want\n",
       "     * to control all of the cursor setting manually through the\n",
       "     * 'cursor' event from matplotlib */\n",
       "    event.preventDefault();\n",
       "    return false;\n",
       "}\n",
       "\n",
       "mpl.figure.prototype._key_event_extra = function(event, name) {\n",
       "    // Handle any extra behaviour associated with a key event\n",
       "}\n",
       "\n",
       "mpl.figure.prototype.key_event = function(event, name) {\n",
       "\n",
       "    // Prevent repeat events\n",
       "    if (name == 'key_press')\n",
       "    {\n",
       "        if (event.which === this._key)\n",
       "            return;\n",
       "        else\n",
       "            this._key = event.which;\n",
       "    }\n",
       "    if (name == 'key_release')\n",
       "        this._key = null;\n",
       "\n",
       "    var value = '';\n",
       "    if (event.ctrlKey && event.which != 17)\n",
       "        value += \"ctrl+\";\n",
       "    if (event.altKey && event.which != 18)\n",
       "        value += \"alt+\";\n",
       "    if (event.shiftKey && event.which != 16)\n",
       "        value += \"shift+\";\n",
       "\n",
       "    value += 'k';\n",
       "    value += event.which.toString();\n",
       "\n",
       "    this._key_event_extra(event, name);\n",
       "\n",
       "    this.send_message(name, {key: value,\n",
       "                             guiEvent: simpleKeys(event)});\n",
       "    return false;\n",
       "}\n",
       "\n",
       "mpl.figure.prototype.toolbar_button_onclick = function(name) {\n",
       "    if (name == 'download') {\n",
       "        this.handle_save(this, null);\n",
       "    } else {\n",
       "        this.send_message(\"toolbar_button\", {name: name});\n",
       "    }\n",
       "};\n",
       "\n",
       "mpl.figure.prototype.toolbar_button_onmouseover = function(tooltip) {\n",
       "    this.message.textContent = tooltip;\n",
       "};\n",
       "mpl.toolbar_items = [[\"Home\", \"Reset original view\", \"fa fa-home icon-home\", \"home\"], [\"Back\", \"Back to previous view\", \"fa fa-arrow-left icon-arrow-left\", \"back\"], [\"Forward\", \"Forward to next view\", \"fa fa-arrow-right icon-arrow-right\", \"forward\"], [\"\", \"\", \"\", \"\"], [\"Pan\", \"Pan axes with left mouse, zoom with right\", \"fa fa-arrows icon-move\", \"pan\"], [\"Zoom\", \"Zoom to rectangle\", \"fa fa-square-o icon-check-empty\", \"zoom\"], [\"\", \"\", \"\", \"\"], [\"Download\", \"Download plot\", \"fa fa-floppy-o icon-save\", \"download\"]];\n",
       "\n",
       "mpl.extensions = [\"eps\", \"jpeg\", \"pdf\", \"png\", \"ps\", \"raw\", \"svg\", \"tif\"];\n",
       "\n",
       "mpl.default_extension = \"png\";var comm_websocket_adapter = function(comm) {\n",
       "    // Create a \"websocket\"-like object which calls the given IPython comm\n",
       "    // object with the appropriate methods. Currently this is a non binary\n",
       "    // socket, so there is still some room for performance tuning.\n",
       "    var ws = {};\n",
       "\n",
       "    ws.close = function() {\n",
       "        comm.close()\n",
       "    };\n",
       "    ws.send = function(m) {\n",
       "        //console.log('sending', m);\n",
       "        comm.send(m);\n",
       "    };\n",
       "    // Register the callback with on_msg.\n",
       "    comm.on_msg(function(msg) {\n",
       "        //console.log('receiving', msg['content']['data'], msg);\n",
       "        // Pass the mpl event to the overridden (by mpl) onmessage function.\n",
       "        ws.onmessage(msg['content']['data'])\n",
       "    });\n",
       "    return ws;\n",
       "}\n",
       "\n",
       "mpl.mpl_figure_comm = function(comm, msg) {\n",
       "    // This is the function which gets called when the mpl process\n",
       "    // starts-up an IPython Comm through the \"matplotlib\" channel.\n",
       "\n",
       "    var id = msg.content.data.id;\n",
       "    // Get hold of the div created by the display call when the Comm\n",
       "    // socket was opened in Python.\n",
       "    var element = $(\"#\" + id);\n",
       "    var ws_proxy = comm_websocket_adapter(comm)\n",
       "\n",
       "    function ondownload(figure, format) {\n",
       "        window.open(figure.imageObj.src);\n",
       "    }\n",
       "\n",
       "    var fig = new mpl.figure(id, ws_proxy,\n",
       "                           ondownload,\n",
       "                           element.get(0));\n",
       "\n",
       "    // Call onopen now - mpl needs it, as it is assuming we've passed it a real\n",
       "    // web socket which is closed, not our websocket->open comm proxy.\n",
       "    ws_proxy.onopen();\n",
       "\n",
       "    fig.parent_element = element.get(0);\n",
       "    fig.cell_info = mpl.find_output_cell(\"<div id='\" + id + \"'></div>\");\n",
       "    if (!fig.cell_info) {\n",
       "        console.error(\"Failed to find cell for figure\", id, fig);\n",
       "        return;\n",
       "    }\n",
       "\n",
       "    var output_index = fig.cell_info[2]\n",
       "    var cell = fig.cell_info[0];\n",
       "\n",
       "};\n",
       "\n",
       "mpl.figure.prototype.handle_close = function(fig, msg) {\n",
       "    var width = fig.canvas.width/mpl.ratio\n",
       "    fig.root.unbind('remove')\n",
       "\n",
       "    // Update the output cell to use the data from the current canvas.\n",
       "    fig.push_to_output();\n",
       "    var dataURL = fig.canvas.toDataURL();\n",
       "    // Re-enable the keyboard manager in IPython - without this line, in FF,\n",
       "    // the notebook keyboard shortcuts fail.\n",
       "    IPython.keyboard_manager.enable()\n",
       "    $(fig.parent_element).html('<img src=\"' + dataURL + '\" width=\"' + width + '\">');\n",
       "    fig.close_ws(fig, msg);\n",
       "}\n",
       "\n",
       "mpl.figure.prototype.close_ws = function(fig, msg){\n",
       "    fig.send_message('closing', msg);\n",
       "    // fig.ws.close()\n",
       "}\n",
       "\n",
       "mpl.figure.prototype.push_to_output = function(remove_interactive) {\n",
       "    // Turn the data on the canvas into data in the output cell.\n",
       "    var width = this.canvas.width/mpl.ratio\n",
       "    var dataURL = this.canvas.toDataURL();\n",
       "    this.cell_info[1]['text/html'] = '<img src=\"' + dataURL + '\" width=\"' + width + '\">';\n",
       "}\n",
       "\n",
       "mpl.figure.prototype.updated_canvas_event = function() {\n",
       "    // Tell IPython that the notebook contents must change.\n",
       "    IPython.notebook.set_dirty(true);\n",
       "    this.send_message(\"ack\", {});\n",
       "    var fig = this;\n",
       "    // Wait a second, then push the new image to the DOM so\n",
       "    // that it is saved nicely (might be nice to debounce this).\n",
       "    setTimeout(function () { fig.push_to_output() }, 1000);\n",
       "}\n",
       "\n",
       "mpl.figure.prototype._init_toolbar = function() {\n",
       "    var fig = this;\n",
       "\n",
       "    var nav_element = $('<div/>');\n",
       "    nav_element.attr('style', 'width: 100%');\n",
       "    this.root.append(nav_element);\n",
       "\n",
       "    // Define a callback function for later on.\n",
       "    function toolbar_event(event) {\n",
       "        return fig.toolbar_button_onclick(event['data']);\n",
       "    }\n",
       "    function toolbar_mouse_event(event) {\n",
       "        return fig.toolbar_button_onmouseover(event['data']);\n",
       "    }\n",
       "\n",
       "    for(var toolbar_ind in mpl.toolbar_items){\n",
       "        var name = mpl.toolbar_items[toolbar_ind][0];\n",
       "        var tooltip = mpl.toolbar_items[toolbar_ind][1];\n",
       "        var image = mpl.toolbar_items[toolbar_ind][2];\n",
       "        var method_name = mpl.toolbar_items[toolbar_ind][3];\n",
       "\n",
       "        if (!name) { continue; };\n",
       "\n",
       "        var button = $('<button class=\"btn btn-default\" href=\"#\" title=\"' + name + '\"><i class=\"fa ' + image + ' fa-lg\"></i></button>');\n",
       "        button.click(method_name, toolbar_event);\n",
       "        button.mouseover(tooltip, toolbar_mouse_event);\n",
       "        nav_element.append(button);\n",
       "    }\n",
       "\n",
       "    // Add the status bar.\n",
       "    var status_bar = $('<span class=\"mpl-message\" style=\"text-align:right; float: right;\"/>');\n",
       "    nav_element.append(status_bar);\n",
       "    this.message = status_bar[0];\n",
       "\n",
       "    // Add the close button to the window.\n",
       "    var buttongrp = $('<div class=\"btn-group inline pull-right\"></div>');\n",
       "    var button = $('<button class=\"btn btn-mini btn-primary\" href=\"#\" title=\"Stop Interaction\"><i class=\"fa fa-power-off icon-remove icon-large\"></i></button>');\n",
       "    button.click(function (evt) { fig.handle_close(fig, {}); } );\n",
       "    button.mouseover('Stop Interaction', toolbar_mouse_event);\n",
       "    buttongrp.append(button);\n",
       "    var titlebar = this.root.find($('.ui-dialog-titlebar'));\n",
       "    titlebar.prepend(buttongrp);\n",
       "}\n",
       "\n",
       "mpl.figure.prototype._root_extra_style = function(el){\n",
       "    var fig = this\n",
       "    el.on(\"remove\", function(){\n",
       "\tfig.close_ws(fig, {});\n",
       "    });\n",
       "}\n",
       "\n",
       "mpl.figure.prototype._canvas_extra_style = function(el){\n",
       "    // this is important to make the div 'focusable\n",
       "    el.attr('tabindex', 0)\n",
       "    // reach out to IPython and tell the keyboard manager to turn it's self\n",
       "    // off when our div gets focus\n",
       "\n",
       "    // location in version 3\n",
       "    if (IPython.notebook.keyboard_manager) {\n",
       "        IPython.notebook.keyboard_manager.register_events(el);\n",
       "    }\n",
       "    else {\n",
       "        // location in version 2\n",
       "        IPython.keyboard_manager.register_events(el);\n",
       "    }\n",
       "\n",
       "}\n",
       "\n",
       "mpl.figure.prototype._key_event_extra = function(event, name) {\n",
       "    var manager = IPython.notebook.keyboard_manager;\n",
       "    if (!manager)\n",
       "        manager = IPython.keyboard_manager;\n",
       "\n",
       "    // Check for shift+enter\n",
       "    if (event.shiftKey && event.which == 13) {\n",
       "        this.canvas_div.blur();\n",
       "        event.shiftKey = false;\n",
       "        // Send a \"J\" for go to next cell\n",
       "        event.which = 74;\n",
       "        event.keyCode = 74;\n",
       "        manager.command_mode();\n",
       "        manager.handle_keydown(event);\n",
       "    }\n",
       "}\n",
       "\n",
       "mpl.figure.prototype.handle_save = function(fig, msg) {\n",
       "    fig.ondownload(fig, null);\n",
       "}\n",
       "\n",
       "\n",
       "mpl.find_output_cell = function(html_output) {\n",
       "    // Return the cell and output element which can be found *uniquely* in the notebook.\n",
       "    // Note - this is a bit hacky, but it is done because the \"notebook_saving.Notebook\"\n",
       "    // IPython event is triggered only after the cells have been serialised, which for\n",
       "    // our purposes (turning an active figure into a static one), is too late.\n",
       "    var cells = IPython.notebook.get_cells();\n",
       "    var ncells = cells.length;\n",
       "    for (var i=0; i<ncells; i++) {\n",
       "        var cell = cells[i];\n",
       "        if (cell.cell_type === 'code'){\n",
       "            for (var j=0; j<cell.output_area.outputs.length; j++) {\n",
       "                var data = cell.output_area.outputs[j];\n",
       "                if (data.data) {\n",
       "                    // IPython >= 3 moved mimebundle to data attribute of output\n",
       "                    data = data.data;\n",
       "                }\n",
       "                if (data['text/html'] == html_output) {\n",
       "                    return [cell, data, j];\n",
       "                }\n",
       "            }\n",
       "        }\n",
       "    }\n",
       "}\n",
       "\n",
       "// Register the function which deals with the matplotlib target/channel.\n",
       "// The kernel may be null if the page has been refreshed.\n",
       "if (IPython.notebook.kernel != null) {\n",
       "    IPython.notebook.kernel.comm_manager.register_target('matplotlib', mpl.mpl_figure_comm);\n",
       "}\n"
      ],
      "text/plain": [
       "<IPython.core.display.Javascript object>"
      ]
     },
     "metadata": {},
     "output_type": "display_data"
    },
    {
     "data": {
      "text/html": [
       "<img src=\"data:image/png;base64,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\" width=\"576\">"
      ],
      "text/plain": [
       "<IPython.core.display.HTML object>"
      ]
     },
     "metadata": {},
     "output_type": "display_data"
    },
    {
     "data": {
      "text/plain": [
       "<OrthoSlicer3D: F://openNeuro//data//data//sub-01//func//sub-01_task-antisaccadetaskwithfixedorder_run-01_bold.nii.gz (64, 64, 29, 216)>"
      ]
     },
     "execution_count": 21,
     "metadata": {},
     "output_type": "execute_result"
    }
   ],
   "source": [
    "%matplotlib notebook\n",
    "imgFunc.orthoview()"
   ]
  },
  {
   "cell_type": "markdown",
   "metadata": {},
   "source": [
    "## Affine\n",
    "The affine is a 4 x 4 numpy array. This describes the transformation from the voxel space (indices [i, j, k]) to the reference space (distance in mm (x, y, z)).\n",
    "Allows us to transform between the i, j, k (the numerical representations of each voxel, without knowing anything about location) and the affine helps transform that to a physical space to let us know where the brain is located in space\n",
    "\n",
    "It can be used, for instance, to discover the voxel that contains the origin of the image:"
   ]
  },
  {
   "cell_type": "code",
   "execution_count": 22,
   "metadata": {},
   "outputs": [
    {
     "name": "stdout",
     "output_type": "stream",
     "text": [
      "Affine:\n",
      "[[ -3.125        0.           0.         100.        ]\n",
      " [  0.           3.125        0.         -97.41625977]\n",
      " [  0.           0.           4.         -51.94065857]\n",
      " [  0.           0.           0.           1.        ]]\n",
      "Center: (32, 31, 12)\n"
     ]
    }
   ],
   "source": [
    "x, y, z, _ = np.linalg.pinv(affine).dot(np.array([0, 0, 0, 1])).astype(int)\n",
    "\n",
    "print(\"Affine:\")\n",
    "print(affine)\n",
    "print\n",
    "print(\"Center: ({:d}, {:d}, {:d})\".format(x, y, z))"
   ]
  },
  {
   "cell_type": "code",
   "execution_count": 23,
   "metadata": {},
   "outputs": [
    {
     "data": {
      "text/plain": [
       "('L', 'A', 'S')"
      ]
     },
     "execution_count": 23,
     "metadata": {},
     "output_type": "execute_result"
    }
   ],
   "source": [
    "nb.aff2axcodes(affine)\n"
   ]
  },
  {
   "cell_type": "markdown",
   "metadata": {},
   "source": [
    "### The affine also can tell us orientation of the image ^ as well as voxel size"
   ]
  },
  {
   "cell_type": "code",
   "execution_count": 28,
   "metadata": {},
   "outputs": [
    {
     "data": {
      "text/plain": [
       "array([3.125, 3.125, 4.   ])"
      ]
     },
     "execution_count": 28,
     "metadata": {},
     "output_type": "execute_result"
    }
   ],
   "source": [
    "nb.affines.voxel_sizes(affine)"
   ]
  },
  {
   "cell_type": "markdown",
   "metadata": {},
   "source": [
    "### Header\n",
    "The header is a nibabel structure that stores all of the metadata of the image. You can query it directly, if necessary:"
   ]
  },
  {
   "cell_type": "code",
   "execution_count": 32,
   "metadata": {},
   "outputs": [
    {
     "data": {
      "text/plain": [
       "array(b'', dtype='|S80')"
      ]
     },
     "execution_count": 32,
     "metadata": {},
     "output_type": "execute_result"
    }
   ],
   "source": [
    "imgFunc.header['descrip']"
   ]
  },
  {
   "cell_type": "markdown",
   "metadata": {},
   "source": [
    "But it also provides interfaces for the more common information, such as get_zooms, get_xyzt_units, get_qform, get_sform).\n",
    "\n"
   ]
  },
  {
   "cell_type": "code",
   "execution_count": 35,
   "metadata": {},
   "outputs": [
    {
     "data": {
      "text/plain": [
       "(3.125, 3.125, 4.0, 1.5)"
      ]
     },
     "execution_count": 35,
     "metadata": {},
     "output_type": "execute_result"
    }
   ],
   "source": [
    "imgFunc.header.get_zooms()"
   ]
  },
  {
   "cell_type": "code",
   "execution_count": 36,
   "metadata": {},
   "outputs": [
    {
     "data": {
      "text/plain": [
       "('mm', 'sec')"
      ]
     },
     "execution_count": 36,
     "metadata": {},
     "output_type": "execute_result"
    }
   ],
   "source": [
    "imgFunc.header.get_xyzt_units()\n"
   ]
  },
  {
   "cell_type": "code",
   "execution_count": 37,
   "metadata": {},
   "outputs": [
    {
     "data": {
      "text/plain": [
       "array([[ -3.125     ,   0.        ,   0.        , 100.        ],\n",
       "       [  0.        ,   3.125     ,   0.        , -97.41625977],\n",
       "       [  0.        ,   0.        ,   4.        , -51.94065857],\n",
       "       [  0.        ,   0.        ,   0.        ,   1.        ]])"
      ]
     },
     "execution_count": 37,
     "metadata": {},
     "output_type": "execute_result"
    }
   ],
   "source": [
    "imgFunc.header.get_qform()\n"
   ]
  },
  {
   "cell_type": "code",
   "execution_count": 38,
   "metadata": {},
   "outputs": [
    {
     "data": {
      "text/plain": [
       "array([[ -3.125     ,   0.        ,   0.        , 100.        ],\n",
       "       [  0.        ,   3.125     ,   0.        , -97.41625977],\n",
       "       [  0.        ,   0.        ,   4.        , -51.94065857],\n",
       "       [  0.        ,   0.        ,   0.        ,   1.        ]])"
      ]
     },
     "execution_count": 38,
     "metadata": {},
     "output_type": "execute_result"
    }
   ],
   "source": [
    "imgFunc.header.get_sform()"
   ]
  },
  {
   "cell_type": "markdown",
   "metadata": {},
   "source": [
    "Normally, we're not particularly interested in the header or the affine. But it's important to know they're there. And especially, to remember to copy them when making new images, so that derivatives stay aligned with the original image."
   ]
  },
  {
   "cell_type": "markdown",
   "metadata": {},
   "source": [
    "## Creating and saving images\n",
    "Suppose we want to save space by rescaling our image to a smaller datatype, such as an unsigned byte. To do this, we first need to take the data, change its datatype and save this new data in a new NIfTI image with the same header and affine as the original image."
   ]
  },
  {
   "cell_type": "code",
   "execution_count": 40,
   "metadata": {},
   "outputs": [
    {
     "name": "stderr",
     "output_type": "stream",
     "text": [
      "C:\\Users\\joann\\Downloads\\Anaconda\\lib\\site-packages\\ipykernel_launcher.py:2: DeprecationWarning: get_data() is deprecated in favor of get_fdata(), which has a more predictable return type. To obtain get_data() behavior going forward, use numpy.asanyarray(img.dataobj).\n",
      "\n",
      "* deprecated from version: 3.0\n",
      "* Will raise <class 'nibabel.deprecator.ExpiredDeprecationError'> as of version: 5.0\n",
      "  \n"
     ]
    }
   ],
   "source": [
    "imgFunc = nb.load('F://openNeuro//data//data//sub-01//func//sub-01_task-antisaccadetaskwithfixedorder_run-01_bold.nii.gz')\n",
    "data = imgFunc.get_data()"
   ]
  },
  {
   "cell_type": "code",
   "execution_count": 41,
   "metadata": {},
   "outputs": [],
   "source": [
    "# Now we force the values to be between 0 and 255\n",
    "# and change the datatype to unsigned 8-bit\n",
    "rescaled = ((data - data.min()) * 255. / (data.max() - data.min())).astype(np.uint8)"
   ]
  },
  {
   "cell_type": "code",
   "execution_count": 43,
   "metadata": {},
   "outputs": [],
   "source": [
    "# Now we can save the changed data into a new NIfTI file\n",
    "new_img = nb.Nifti1Image(rescaled, affine=img.affine, header=img.header)\n",
    "nb.save(new_img, 'F://openNeuro//data//data//sub-01//func//rescaled_image.nii.gz')"
   ]
  },
  {
   "cell_type": "code",
   "execution_count": 44,
   "metadata": {},
   "outputs": [
    {
     "name": "stdout",
     "output_type": "stream",
     "text": [
      "(dtype('uint8'), dtype('<f4'))\n"
     ]
    },
    {
     "name": "stderr",
     "output_type": "stream",
     "text": [
      "C:\\Users\\joann\\Downloads\\Anaconda\\lib\\site-packages\\ipykernel_launcher.py:1: DeprecationWarning: get_data() is deprecated in favor of get_fdata(), which has a more predictable return type. To obtain get_data() behavior going forward, use numpy.asanyarray(img.dataobj).\n",
      "\n",
      "* deprecated from version: 3.0\n",
      "* Will raise <class 'nibabel.deprecator.ExpiredDeprecationError'> as of version: 5.0\n",
      "  \"\"\"Entry point for launching an IPython kernel.\n"
     ]
    }
   ],
   "source": [
    "print((new_img.get_data().dtype, new_img.get_data_dtype()))\n"
   ]
  },
  {
   "cell_type": "code",
   "execution_count": 46,
   "metadata": {},
   "outputs": [],
   "source": [
    "img.set_data_dtype(np.uint8)\n"
   ]
  },
  {
   "cell_type": "code",
   "execution_count": 47,
   "metadata": {},
   "outputs": [
    {
     "name": "stdout",
     "output_type": "stream",
     "text": [
      "(dtype('uint8'), dtype('uint8'))\n"
     ]
    },
    {
     "name": "stderr",
     "output_type": "stream",
     "text": [
      "C:\\Users\\joann\\Downloads\\Anaconda\\lib\\site-packages\\ipykernel_launcher.py:4: DeprecationWarning: get_data() is deprecated in favor of get_fdata(), which has a more predictable return type. To obtain get_data() behavior going forward, use numpy.asanyarray(img.dataobj).\n",
      "\n",
      "* deprecated from version: 3.0\n",
      "* Will raise <class 'nibabel.deprecator.ExpiredDeprecationError'> as of version: 5.0\n",
      "  after removing the cwd from sys.path.\n"
     ]
    }
   ],
   "source": [
    "# Save image again\n",
    "new_img = nb.Nifti1Image(rescaled, affine=img.affine, header=img.header)\n",
    "nb.save(new_img, 'F://openNeuro//data//data//sub-01//func//rescaled_image.nii.gz')\n",
    "print((new_img.get_data().dtype, new_img.get_data_dtype()))"
   ]
  },
  {
   "cell_type": "code",
   "execution_count": null,
   "metadata": {},
   "outputs": [],
   "source": []
  }
 ],
 "metadata": {
  "kernelspec": {
   "display_name": "Python 3",
   "language": "python",
   "name": "python3"
  },
  "language_info": {
   "codemirror_mode": {
    "name": "ipython",
    "version": 3
   },
   "file_extension": ".py",
   "mimetype": "text/x-python",
   "name": "python",
   "nbconvert_exporter": "python",
   "pygments_lexer": "ipython3",
   "version": "3.7.10"
  }
 },
 "nbformat": 4,
 "nbformat_minor": 2
}
