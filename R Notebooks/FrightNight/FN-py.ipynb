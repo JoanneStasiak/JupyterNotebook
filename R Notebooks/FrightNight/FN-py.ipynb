{
 "cells": [
  {
   "cell_type": "markdown",
   "id": "innovative-premium",
   "metadata": {},
   "source": [
    "# Create a heat map for emotions x hr"
   ]
  },
  {
   "cell_type": "code",
   "execution_count": 3,
   "id": "substantial-productivity",
   "metadata": {},
   "outputs": [],
   "source": [
    "import numpy as np\n",
    "import pandas as pd\n",
    "import os\n",
    "import seaborn as sns\n",
    "import matplotlib.pyplot as plt"
   ]
  },
  {
   "cell_type": "code",
   "execution_count": 4,
   "id": "contrary-overview",
   "metadata": {},
   "outputs": [
    {
     "name": "stdout",
     "output_type": "stream",
     "text": [
      "    PID  FearRatingAudio  ExpFearConvert  UniqueEvent  AvgHR  HRzScore  \\\n",
      "0  1310              2.0             2.5            1  80.59  0.116322   \n",
      "1  1310              2.0             2.5            1  80.59  0.116322   \n",
      "2  1310              2.0             2.5            1  80.59  0.116322   \n",
      "3  1310              NaN             NaN            2  72.06 -0.944132   \n",
      "4  1310              NaN             NaN            2  72.06 -0.944132   \n",
      "5  1310              NaN             NaN            2  72.06 -0.944132   \n",
      "6  1310              2.0             2.5            3  81.13  0.183455   \n",
      "7  1310              2.0             2.5            3  81.13  0.183455   \n",
      "8  1310              2.0             2.5            3  81.13  0.183455   \n",
      "9  1310              3.0             4.0            4  93.27  1.692706   \n",
      "\n",
      "                                         Description           Emotions  \\\n",
      "0  all of us (participants) holding a rope as we ...  Amused/Interested   \n",
      "1  all of us (participants) holding a rope as we ...    Nervous/Jittery   \n",
      "2  all of us (participants) holding a rope as we ...    Fearful/Afraid*   \n",
      "3  introductory woman talking about drinking bloo...    Nervous/Jittery   \n",
      "4  introductory woman talking about drinking bloo...  Shocked/Surprised   \n",
      "5  introductory woman talking about drinking bloo...    Fearful/Afraid*   \n",
      "6  room with 3-d glasses provided. all colors cam...  Amused/Interested   \n",
      "7  room with 3-d glasses provided. all colors cam...   Excited/Enthused   \n",
      "8  room with 3-d glasses provided. all colors cam...    Fearful/Afraid*   \n",
      "9  walk-through room with short characters wearin...  Amused/Interested   \n",
      "\n",
      "   CodedEmotions EmotionTypeLimited EmotionType EmoTypeCodedNegative  \\\n",
      "0              1           Positive    Positive             Positive   \n",
      "1              8           Negative    Negative             Negative   \n",
      "2             13                NaN    Negative             Negative   \n",
      "3              8           Negative    Negative             Negative   \n",
      "4             11           Negative    Negative             Negative   \n",
      "5             13                NaN    Negative             Negative   \n",
      "6              1           Positive    Positive             Positive   \n",
      "7              3           Positive    Positive             Positive   \n",
      "8             13                NaN    Negative             Negative   \n",
      "9              1           Positive    Positive             Positive   \n",
      "\n",
      "   EmotionExtent  RegulationExtent  FearType  FearType.1  \n",
      "0              6                 4       NaN         NaN  \n",
      "1              6                 5       NaN         NaN  \n",
      "2              5                 4       NaN         0.0  \n",
      "3              6                 3       NaN         NaN  \n",
      "4              7                 4       NaN         NaN  \n",
      "5              4                 6       NaN         0.0  \n",
      "6              7                 1       NaN         NaN  \n",
      "7              7                 1       NaN         NaN  \n",
      "8              4                 1       NaN         0.0  \n",
      "9              5                 4       NaN         NaN  \n"
     ]
    }
   ],
   "source": [
    "df=pd.read_csv(\"hrEmo.csv\")\n",
    "print(df.head(10))"
   ]
  },
  {
   "cell_type": "code",
   "execution_count": 6,
   "id": "compatible-vulnerability",
   "metadata": {},
   "outputs": [
    {
     "ename": "ValueError",
     "evalue": "cannot reshape array of size 977 into shape (45,45)",
     "output_type": "error",
     "traceback": [
      "\u001b[1;31m---------------------------------------------------------------------------\u001b[0m",
      "\u001b[1;31mValueError\u001b[0m                                Traceback (most recent call last)",
      "\u001b[1;32m<ipython-input-6-cbddf5e9d7d4>\u001b[0m in \u001b[0;36m<module>\u001b[1;34m\u001b[0m\n\u001b[1;32m----> 1\u001b[1;33m \u001b[0memotion\u001b[0m \u001b[1;33m=\u001b[0m \u001b[1;33m(\u001b[0m\u001b[1;33m(\u001b[0m\u001b[0mnp\u001b[0m\u001b[1;33m.\u001b[0m\u001b[0masarray\u001b[0m\u001b[1;33m(\u001b[0m\u001b[0mdf\u001b[0m\u001b[1;33m[\u001b[0m\u001b[1;34m'Emotions'\u001b[0m\u001b[1;33m]\u001b[0m\u001b[1;33m)\u001b[0m\u001b[1;33m)\u001b[0m\u001b[1;33m.\u001b[0m\u001b[0mreshape\u001b[0m\u001b[1;33m(\u001b[0m\u001b[1;36m45\u001b[0m\u001b[1;33m,\u001b[0m\u001b[1;36m45\u001b[0m\u001b[1;33m)\u001b[0m\u001b[1;33m)\u001b[0m\u001b[1;33m\u001b[0m\u001b[1;33m\u001b[0m\u001b[0m\n\u001b[0m\u001b[0;32m      2\u001b[0m \u001b[0mextent\u001b[0m \u001b[1;33m=\u001b[0m \u001b[1;33m(\u001b[0m\u001b[1;33m(\u001b[0m\u001b[0mnp\u001b[0m\u001b[1;33m.\u001b[0m\u001b[0masarray\u001b[0m\u001b[1;33m(\u001b[0m\u001b[0mdf\u001b[0m\u001b[1;33m[\u001b[0m\u001b[1;34m'EmotionExtent'\u001b[0m\u001b[1;33m]\u001b[0m\u001b[1;33m)\u001b[0m\u001b[1;33m)\u001b[0m\u001b[1;33m.\u001b[0m\u001b[0mreshape\u001b[0m\u001b[1;33m(\u001b[0m\u001b[1;36m45\u001b[0m\u001b[1;33m,\u001b[0m\u001b[1;36m45\u001b[0m\u001b[1;33m)\u001b[0m\u001b[1;33m)\u001b[0m\u001b[1;33m\u001b[0m\u001b[1;33m\u001b[0m\u001b[0m\n",
      "\u001b[1;31mValueError\u001b[0m: cannot reshape array of size 977 into shape (45,45)"
     ]
    }
   ],
   "source": [
    "emotion = ((np.asarray(df['Emotions'])).reshape(45,45)) \n",
    "extent = ((np.asarray(df['EmotionExtent'])).reshape(45,45))"
   ]
  },
  {
   "cell_type": "code",
   "execution_count": null,
   "id": "romance-garbage",
   "metadata": {},
   "outputs": [],
   "source": []
  }
 ],
 "metadata": {
  "kernelspec": {
   "display_name": "Python [conda env:PytR-Env] *",
   "language": "python",
   "name": "conda-env-PytR-Env-py"
  },
  "language_info": {
   "codemirror_mode": {
    "name": "ipython",
    "version": 3
   },
   "file_extension": ".py",
   "mimetype": "text/x-python",
   "name": "python",
   "nbconvert_exporter": "python",
   "pygments_lexer": "ipython3",
   "version": "3.7.10"
  }
 },
 "nbformat": 4,
 "nbformat_minor": 5
}
